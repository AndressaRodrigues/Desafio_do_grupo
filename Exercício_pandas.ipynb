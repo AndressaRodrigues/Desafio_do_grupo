{
  "nbformat": 4,
  "nbformat_minor": 0,
  "metadata": {
    "colab": {
      "name": "Exercício_pandas.ipynb",
      "provenance": [],
      "collapsed_sections": [],
      "authorship_tag": "ABX9TyOB24NzJ+m0eczhr+lOePoX",
      "include_colab_link": true
    },
    "kernelspec": {
      "name": "python3",
      "display_name": "Python 3"
    },
    "language_info": {
      "name": "python"
    }
  },
  "cells": [
    {
      "cell_type": "markdown",
      "metadata": {
        "id": "view-in-github",
        "colab_type": "text"
      },
      "source": [
        "<a href=\"https://colab.research.google.com/github/AndressaRodrigues/Desafio_do_grupo/blob/main/Exerc%C3%ADcio_pandas.ipynb\" target=\"_parent\"><img src=\"https://colab.research.google.com/assets/colab-badge.svg\" alt=\"Open In Colab\"/></a>"
      ]
    },
    {
      "cell_type": "markdown",
      "metadata": {
        "id": "TKRXJB50SBa5"
      },
      "source": [
        "#Desafio python\n",
        "\n",
        "Using Python, you must find the best players, the most expensive ones and what are their nationalities."
      ]
    },
    {
      "cell_type": "code",
      "metadata": {
        "id": "pAav7c8sR4fB"
      },
      "source": [
        "import pandas as pd\n",
        "\n",
        "\n",
        "uri = \"https://raw.githubusercontent.com/rsip22/101/master/Python/process_players_data/data.csv\""
      ],
      "execution_count": null,
      "outputs": []
    },
    {
      "cell_type": "code",
      "metadata": {
        "id": "1f12-oQ4R-EC"
      },
      "source": [
        "dados = pd.read_csv(uri)"
      ],
      "execution_count": null,
      "outputs": []
    },
    {
      "cell_type": "code",
      "metadata": {
        "id": "nB2zd68eSA0J"
      },
      "source": [
        "#list(dados.columns)"
      ],
      "execution_count": null,
      "outputs": []
    },
    {
      "cell_type": "markdown",
      "metadata": {
        "id": "eL753Q4WS47D"
      },
      "source": [
        "Melhor reputação"
      ]
    },
    {
      "cell_type": "code",
      "metadata": {
        "colab": {
          "base_uri": "https://localhost:8080/",
          "height": 235
        },
        "id": "urcsJNO3W3a6",
        "outputId": "72d327bd-b5bd-428a-d81c-42e4da63f1bd"
      },
      "source": [
        "rep_int = dados[(dados['international_reputation'] == 5)]\n",
        "rep_int[['full_name', 'nationality']]"
      ],
      "execution_count": null,
      "outputs": [
        {
          "output_type": "execute_result",
          "data": {
            "text/html": [
              "<div>\n",
              "<style scoped>\n",
              "    .dataframe tbody tr th:only-of-type {\n",
              "        vertical-align: middle;\n",
              "    }\n",
              "\n",
              "    .dataframe tbody tr th {\n",
              "        vertical-align: top;\n",
              "    }\n",
              "\n",
              "    .dataframe thead th {\n",
              "        text-align: right;\n",
              "    }\n",
              "</style>\n",
              "<table border=\"1\" class=\"dataframe\">\n",
              "  <thead>\n",
              "    <tr style=\"text-align: right;\">\n",
              "      <th></th>\n",
              "      <th>full_name</th>\n",
              "      <th>nationality</th>\n",
              "    </tr>\n",
              "  </thead>\n",
              "  <tbody>\n",
              "    <tr>\n",
              "      <th>0</th>\n",
              "      <td>C. Ronaldo dos Santos Aveiro</td>\n",
              "      <td>Portugal</td>\n",
              "    </tr>\n",
              "    <tr>\n",
              "      <th>1</th>\n",
              "      <td>Lionel Messi</td>\n",
              "      <td>Argentina</td>\n",
              "    </tr>\n",
              "    <tr>\n",
              "      <th>2</th>\n",
              "      <td>Neymar da Silva Santos Jr.</td>\n",
              "      <td>Brazil</td>\n",
              "    </tr>\n",
              "    <tr>\n",
              "      <th>3</th>\n",
              "      <td>Luis Suárez</td>\n",
              "      <td>Uruguay</td>\n",
              "    </tr>\n",
              "    <tr>\n",
              "      <th>4</th>\n",
              "      <td>Manuel Neuer</td>\n",
              "      <td>Germany</td>\n",
              "    </tr>\n",
              "    <tr>\n",
              "      <th>31</th>\n",
              "      <td>Zlatan Ibrahimović</td>\n",
              "      <td>Sweden</td>\n",
              "    </tr>\n",
              "  </tbody>\n",
              "</table>\n",
              "</div>"
            ],
            "text/plain": [
              "                       full_name nationality\n",
              "0   C. Ronaldo dos Santos Aveiro    Portugal\n",
              "1                   Lionel Messi   Argentina\n",
              "2     Neymar da Silva Santos Jr.      Brazil\n",
              "3                    Luis Suárez     Uruguay\n",
              "4                   Manuel Neuer     Germany\n",
              "31            Zlatan Ibrahimović      Sweden"
            ]
          },
          "metadata": {
            "tags": []
          },
          "execution_count": 81
        }
      ]
    },
    {
      "cell_type": "markdown",
      "metadata": {
        "id": "wS-ljPfVialv"
      },
      "source": [
        "Maiores salários"
      ]
    },
    {
      "cell_type": "code",
      "metadata": {
        "colab": {
          "base_uri": "https://localhost:8080/",
          "height": 359
        },
        "id": "EmNSDbp4d7pH",
        "outputId": "76934db0-f1ca-446f-dfd2-59c5a44c42c1"
      },
      "source": [
        "caros = dados.sort_values(['eur_wage'],ascending=False)\n",
        "caros[['full_name', 'eur_wage', 'nationality']].head(10)"
      ],
      "execution_count": null,
      "outputs": [
        {
          "output_type": "execute_result",
          "data": {
            "text/html": [
              "<div>\n",
              "<style scoped>\n",
              "    .dataframe tbody tr th:only-of-type {\n",
              "        vertical-align: middle;\n",
              "    }\n",
              "\n",
              "    .dataframe tbody tr th {\n",
              "        vertical-align: top;\n",
              "    }\n",
              "\n",
              "    .dataframe thead th {\n",
              "        text-align: right;\n",
              "    }\n",
              "</style>\n",
              "<table border=\"1\" class=\"dataframe\">\n",
              "  <thead>\n",
              "    <tr style=\"text-align: right;\">\n",
              "      <th></th>\n",
              "      <th>full_name</th>\n",
              "      <th>eur_wage</th>\n",
              "      <th>nationality</th>\n",
              "    </tr>\n",
              "  </thead>\n",
              "  <tbody>\n",
              "    <tr>\n",
              "      <th>0</th>\n",
              "      <td>C. Ronaldo dos Santos Aveiro</td>\n",
              "      <td>565000.0</td>\n",
              "      <td>Portugal</td>\n",
              "    </tr>\n",
              "    <tr>\n",
              "      <th>1</th>\n",
              "      <td>Lionel Messi</td>\n",
              "      <td>565000.0</td>\n",
              "      <td>Argentina</td>\n",
              "    </tr>\n",
              "    <tr>\n",
              "      <th>3</th>\n",
              "      <td>Luis Suárez</td>\n",
              "      <td>510000.0</td>\n",
              "      <td>Uruguay</td>\n",
              "    </tr>\n",
              "    <tr>\n",
              "      <th>15</th>\n",
              "      <td>Gareth Bale</td>\n",
              "      <td>370000.0</td>\n",
              "      <td>Wales</td>\n",
              "    </tr>\n",
              "    <tr>\n",
              "      <th>5</th>\n",
              "      <td>Robert Lewandowski</td>\n",
              "      <td>355000.0</td>\n",
              "      <td>Poland</td>\n",
              "    </tr>\n",
              "    <tr>\n",
              "      <th>8</th>\n",
              "      <td>Toni Kroos</td>\n",
              "      <td>340000.0</td>\n",
              "      <td>Germany</td>\n",
              "    </tr>\n",
              "    <tr>\n",
              "      <th>14</th>\n",
              "      <td>Luka Modrić</td>\n",
              "      <td>340000.0</td>\n",
              "      <td>Croatia</td>\n",
              "    </tr>\n",
              "    <tr>\n",
              "      <th>16</th>\n",
              "      <td>Sergio Agüero</td>\n",
              "      <td>325000.0</td>\n",
              "      <td>Argentina</td>\n",
              "    </tr>\n",
              "    <tr>\n",
              "      <th>10</th>\n",
              "      <td>Sergio Ramos García</td>\n",
              "      <td>310000.0</td>\n",
              "      <td>Spain</td>\n",
              "    </tr>\n",
              "    <tr>\n",
              "      <th>7</th>\n",
              "      <td>Eden Hazard</td>\n",
              "      <td>295000.0</td>\n",
              "      <td>Belgium</td>\n",
              "    </tr>\n",
              "  </tbody>\n",
              "</table>\n",
              "</div>"
            ],
            "text/plain": [
              "                       full_name  eur_wage nationality\n",
              "0   C. Ronaldo dos Santos Aveiro  565000.0    Portugal\n",
              "1                   Lionel Messi  565000.0   Argentina\n",
              "3                    Luis Suárez  510000.0     Uruguay\n",
              "15                   Gareth Bale  370000.0       Wales\n",
              "5             Robert Lewandowski  355000.0      Poland\n",
              "8                     Toni Kroos  340000.0     Germany\n",
              "14                   Luka Modrić  340000.0     Croatia\n",
              "16                 Sergio Agüero  325000.0   Argentina\n",
              "10           Sergio Ramos García  310000.0       Spain\n",
              "7                    Eden Hazard  295000.0     Belgium"
            ]
          },
          "metadata": {
            "tags": []
          },
          "execution_count": 125
        }
      ]
    },
    {
      "cell_type": "markdown",
      "metadata": {
        "id": "Bv3Ru8-Jig2G"
      },
      "source": [
        "Maior multa por quebra de contrato"
      ]
    },
    {
      "cell_type": "code",
      "metadata": {
        "colab": {
          "base_uri": "https://localhost:8080/",
          "height": 359
        },
        "id": "q9d7equWh5dm",
        "outputId": "8fce12ef-a838-4175-d749-a5d39ad9950e"
      },
      "source": [
        "caros = dados.sort_values(['eur_release_clause'],ascending=False)\n",
        "caros[['full_name', 'eur_release_clause', 'nationality']].head(10)"
      ],
      "execution_count": null,
      "outputs": [
        {
          "output_type": "execute_result",
          "data": {
            "text/html": [
              "<div>\n",
              "<style scoped>\n",
              "    .dataframe tbody tr th:only-of-type {\n",
              "        vertical-align: middle;\n",
              "    }\n",
              "\n",
              "    .dataframe tbody tr th {\n",
              "        vertical-align: top;\n",
              "    }\n",
              "\n",
              "    .dataframe thead th {\n",
              "        text-align: right;\n",
              "    }\n",
              "</style>\n",
              "<table border=\"1\" class=\"dataframe\">\n",
              "  <thead>\n",
              "    <tr style=\"text-align: right;\">\n",
              "      <th></th>\n",
              "      <th>full_name</th>\n",
              "      <th>eur_release_clause</th>\n",
              "      <th>nationality</th>\n",
              "    </tr>\n",
              "  </thead>\n",
              "  <tbody>\n",
              "    <tr>\n",
              "      <th>2</th>\n",
              "      <td>Neymar da Silva Santos Jr.</td>\n",
              "      <td>236800000.0</td>\n",
              "      <td>Brazil</td>\n",
              "    </tr>\n",
              "    <tr>\n",
              "      <th>1</th>\n",
              "      <td>Lionel Messi</td>\n",
              "      <td>215300000.0</td>\n",
              "      <td>Argentina</td>\n",
              "    </tr>\n",
              "    <tr>\n",
              "      <th>3</th>\n",
              "      <td>Luis Suárez</td>\n",
              "      <td>198900000.0</td>\n",
              "      <td>Uruguay</td>\n",
              "    </tr>\n",
              "    <tr>\n",
              "      <th>0</th>\n",
              "      <td>C. Ronaldo dos Santos Aveiro</td>\n",
              "      <td>195800000.0</td>\n",
              "      <td>Portugal</td>\n",
              "    </tr>\n",
              "    <tr>\n",
              "      <th>7</th>\n",
              "      <td>Eden Hazard</td>\n",
              "      <td>174200000.0</td>\n",
              "      <td>Belgium</td>\n",
              "    </tr>\n",
              "    <tr>\n",
              "      <th>8</th>\n",
              "      <td>Toni Kroos</td>\n",
              "      <td>162000000.0</td>\n",
              "      <td>Germany</td>\n",
              "    </tr>\n",
              "    <tr>\n",
              "      <th>11</th>\n",
              "      <td>Kevin De Bruyne</td>\n",
              "      <td>159800000.0</td>\n",
              "      <td>Belgium</td>\n",
              "    </tr>\n",
              "    <tr>\n",
              "      <th>21</th>\n",
              "      <td>Antoine Griezmann</td>\n",
              "      <td>159400000.0</td>\n",
              "      <td>France</td>\n",
              "    </tr>\n",
              "    <tr>\n",
              "      <th>5</th>\n",
              "      <td>Robert Lewandowski</td>\n",
              "      <td>151800000.0</td>\n",
              "      <td>Poland</td>\n",
              "    </tr>\n",
              "    <tr>\n",
              "      <th>15</th>\n",
              "      <td>Gareth Bale</td>\n",
              "      <td>142500000.0</td>\n",
              "      <td>Wales</td>\n",
              "    </tr>\n",
              "  </tbody>\n",
              "</table>\n",
              "</div>"
            ],
            "text/plain": [
              "                       full_name  eur_release_clause nationality\n",
              "2     Neymar da Silva Santos Jr.         236800000.0      Brazil\n",
              "1                   Lionel Messi         215300000.0   Argentina\n",
              "3                    Luis Suárez         198900000.0     Uruguay\n",
              "0   C. Ronaldo dos Santos Aveiro         195800000.0    Portugal\n",
              "7                    Eden Hazard         174200000.0     Belgium\n",
              "8                     Toni Kroos         162000000.0     Germany\n",
              "11               Kevin De Bruyne         159800000.0     Belgium\n",
              "21             Antoine Griezmann         159400000.0      France\n",
              "5             Robert Lewandowski         151800000.0      Poland\n",
              "15                   Gareth Bale         142500000.0       Wales"
            ]
          },
          "metadata": {
            "tags": []
          },
          "execution_count": 129
        }
      ]
    },
    {
      "cell_type": "code",
      "metadata": {
        "id": "hvLmoyduiw9_"
      },
      "source": [
        ""
      ],
      "execution_count": null,
      "outputs": []
    }
  ]
}